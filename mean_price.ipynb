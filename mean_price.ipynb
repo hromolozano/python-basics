{
 "cells": [
  {
   "cell_type": "markdown",
   "metadata": {},
   "source": [
    "Write a program that calculates the average price of a product. The average price is\n",
    "must be calculated from the price of the same product in n different establishments."
   ]
  },
  {
   "cell_type": "code",
   "execution_count": 1,
   "metadata": {},
   "outputs": [
    {
     "name": "stdout",
     "output_type": "stream",
     "text": [
      "[4, 3, 4, 3, 3, 3, 3, 3, 4, 4]\n"
     ]
    }
   ],
   "source": [
    "# Define the number of establishments\n",
    "\n",
    "n = 10\n",
    "\n",
    "# Define a random price for the n number of stablishments\n",
    "# Import the numpy library and alias it as np\n",
    "\n",
    "import numpy as np\n",
    "\n",
    "# Define an empty list\n",
    "\n",
    "prices = []\n",
    "\n",
    "# Iterate over the number of establishments defined with range(0,5) and append the random numbers to the prices list\n",
    "\n",
    "for i in range(0,n):\n",
    "    prices.append(np.random.randint(3,5))   # This appends the random integer number to the prices list\n",
    "\n",
    "print(prices)\n"
   ]
  },
  {
   "cell_type": "code",
   "execution_count": 4,
   "metadata": {},
   "outputs": [
    {
     "name": "stdout",
     "output_type": "stream",
     "text": [
      "The sum of all elements of the prices list is  34\n",
      "The mean price is  3.4\n"
     ]
    }
   ],
   "source": [
    "# Obtain the sum of all the elements of the prices list with the function sum as follows, add the result to a variable\n",
    "sum1 = sum(prices)\n",
    "print(\"The sum of all elements of the prices list is \", sum1)\n",
    "\n",
    "\n",
    "# Calculate the mean by dividing the sum by the n establishments\n",
    "\n",
    "mean = sum1/n\n",
    "print(\"The mean price is \", mean)"
   ]
  },
  {
   "cell_type": "code",
   "execution_count": 5,
   "metadata": {},
   "outputs": [],
   "source": [
    "# You can define a function mean_price which executes all the above code just to call it and defining the n parameter\n",
    "def mean_price(n):\n",
    "    prices = []\n",
    "\n",
    "    for i in range(0,n):\n",
    "        prices.append(np.random.randint(3,5))\n",
    "\n",
    "    sum1 = sum(prices)\n",
    "    mean = sum1/n\n",
    "\n",
    "    print(\"The sum of all elements of the prices list is \", sum1)\n",
    "    print(\"The mean price is \", mean)"
   ]
  },
  {
   "cell_type": "code",
   "execution_count": 6,
   "metadata": {},
   "outputs": [
    {
     "name": "stdout",
     "output_type": "stream",
     "text": [
      "The sum of all elements of the prices list is  35\n",
      "The mean price is  3.5\n"
     ]
    }
   ],
   "source": [
    "mean_price(10)"
   ]
  },
  {
   "cell_type": "code",
   "execution_count": null,
   "metadata": {},
   "outputs": [],
   "source": []
  }
 ],
 "metadata": {
  "kernelspec": {
   "display_name": "Python 3.9.13 64-bit (microsoft store)",
   "language": "python",
   "name": "python3"
  },
  "language_info": {
   "codemirror_mode": {
    "name": "ipython",
    "version": 3
   },
   "file_extension": ".py",
   "mimetype": "text/x-python",
   "name": "python",
   "nbconvert_exporter": "python",
   "pygments_lexer": "ipython3",
   "version": "3.9.13"
  },
  "orig_nbformat": 4,
  "vscode": {
   "interpreter": {
    "hash": "16705ab92c7be3d25006bfb0d2620c5228b040e3f2be12495b51a294caa68d4a"
   }
  }
 },
 "nbformat": 4,
 "nbformat_minor": 2
}
