{
 "cells": [
  {
   "cell_type": "markdown",
   "metadata": {},
   "source": [
    "Define a variable called meters. Define a function which returns the meters value to centimeters, in millimeters and in inches."
   ]
  },
  {
   "cell_type": "code",
   "execution_count": 5,
   "metadata": {},
   "outputs": [],
   "source": [
    "def unit_conversion(meters):\n",
    "\n",
    "    centimeters = meters * 100\n",
    "    millimeters = meters * 1000\n",
    "    inches = centimeters / 2.54 \n",
    "\n",
    "    print(meters, \" meters are equivalent to \", centimeters, \\\n",
    "    \" centimeters and \", millimeters, \" millimeters and \", inches, \" inches\")"
   ]
  },
  {
   "cell_type": "code",
   "execution_count": 9,
   "metadata": {},
   "outputs": [
    {
     "name": "stdout",
     "output_type": "stream",
     "text": [
      "1  meters are equivalent to  100  centimeters and  1000  millimeters and  39.37007874015748  inches\n"
     ]
    }
   ],
   "source": [
    "unit_conversion(1)"
   ]
  },
  {
   "cell_type": "code",
   "execution_count": null,
   "metadata": {},
   "outputs": [],
   "source": []
  }
 ],
 "metadata": {
  "kernelspec": {
   "display_name": "Python 3.9.13 64-bit (microsoft store)",
   "language": "python",
   "name": "python3"
  },
  "language_info": {
   "codemirror_mode": {
    "name": "ipython",
    "version": 3
   },
   "file_extension": ".py",
   "mimetype": "text/x-python",
   "name": "python",
   "nbconvert_exporter": "python",
   "pygments_lexer": "ipython3",
   "version": "3.9.13"
  },
  "orig_nbformat": 4,
  "vscode": {
   "interpreter": {
    "hash": "16705ab92c7be3d25006bfb0d2620c5228b040e3f2be12495b51a294caa68d4a"
   }
  }
 },
 "nbformat": 4,
 "nbformat_minor": 2
}
