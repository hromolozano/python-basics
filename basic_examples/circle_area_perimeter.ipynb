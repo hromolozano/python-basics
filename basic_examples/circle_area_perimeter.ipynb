{
 "cells": [
  {
   "cell_type": "markdown",
   "metadata": {},
   "source": [
    "Excercise 1. Knowing the number in mathematics π, define a variable for the radius (r) of\n",
    "a circle and calculate and display the area and perimeter on the screen. The formulas are: \n",
    "area = π * r^2\n",
    "perimeter = 2 * π * r"
   ]
  },
  {
   "cell_type": "code",
   "execution_count": 9,
   "metadata": {},
   "outputs": [
    {
     "name": "stdout",
     "output_type": "stream",
     "text": [
      "3.141592653589793\n"
     ]
    }
   ],
   "source": [
    "# Import math to have the pi value. Print the value of pi\n",
    "import math\n",
    "print(math.pi)"
   ]
  },
  {
   "cell_type": "code",
   "execution_count": 16,
   "metadata": {},
   "outputs": [
    {
     "name": "stdout",
     "output_type": "stream",
     "text": [
      "The area of the circle is 21.991148575128552\n",
      "The perimeter of the circle is 31.41592653589793\n"
     ]
    }
   ],
   "source": [
    "# Define the variable: radius\n",
    "\n",
    "radius = 5\n",
    "pi = math.pi\n",
    "\n",
    "# Calculate the area using area = π * r^2\n",
    "\n",
    "area = pi * (radius ^ 2)\n",
    "\n",
    "print(\"The area of the circle is\", area)\n",
    "\n",
    "# Calculate the perimeter using perimeter = 2 * π * r\n",
    "\n",
    "perimeter = 2 * pi * radius\n",
    "\n",
    "print(\"The perimeter of the circle is\", perimeter)"
   ]
  },
  {
   "cell_type": "code",
   "execution_count": null,
   "metadata": {},
   "outputs": [],
   "source": []
  }
 ],
 "metadata": {
  "kernelspec": {
   "display_name": "Python 3.9.13 64-bit (microsoft store)",
   "language": "python",
   "name": "python3"
  },
  "language_info": {
   "codemirror_mode": {
    "name": "ipython",
    "version": 3
   },
   "file_extension": ".py",
   "mimetype": "text/x-python",
   "name": "python",
   "nbconvert_exporter": "python",
   "pygments_lexer": "ipython3",
   "version": "3.9.13"
  },
  "orig_nbformat": 4,
  "vscode": {
   "interpreter": {
    "hash": "16705ab92c7be3d25006bfb0d2620c5228b040e3f2be12495b51a294caa68d4a"
   }
  }
 },
 "nbformat": 4,
 "nbformat_minor": 2
}
